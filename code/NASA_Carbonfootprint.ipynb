{
  "nbformat": 4,
  "nbformat_minor": 0,
  "metadata": {
    "colab": {
      "name": "NASA_ML",
      "provenance": [],
      "authorship_tag": "ABX9TyPQPh5yEpBf04Joy4WUrhf4",
      "include_colab_link": true
    },
    "kernelspec": {
      "name": "python3",
      "display_name": "Python 3"
    }
  },
  "cells": [
    {
      "cell_type": "markdown",
      "metadata": {
        "id": "view-in-github",
        "colab_type": "text"
      },
      "source": [
        "<a href=\"https://colab.research.google.com/github/sreejagundu/NASA-space-apps/blob/master/NASA_Carbonfootprint.ipynb\" target=\"_parent\"><img src=\"https://colab.research.google.com/assets/colab-badge.svg\" alt=\"Open In Colab\"/></a>"
      ]
    },
    {
      "cell_type": "markdown",
      "metadata": {
        "id": "KACXj6R9ulD8"
      },
      "source": [
        "# **What Is Our Carbon Footprint?**"
      ]
    },
    {
      "cell_type": "markdown",
      "metadata": {
        "id": "ktWhjjpc0fAy"
      },
      "source": [
        "![alt text](https://energyindustryreview.com/wp-content/uploads/2018/12/Romania-limits-its-GHG-emissions-in-the-absence-of-large-industrial-platforms.jpg)"
      ]
    },
    {
      "cell_type": "markdown",
      "metadata": {
        "id": "o66CCEYlukXV"
      },
      "source": [
        "Today, the term “carbon footprint” is often used as shorthand for the amount of carbon (usually in tonnes) is emitted by an activity or organization. The carbon footprint is also an important component of the Ecological Footprint, since it is one competing demand for biologically productive space. Carbon emissions from burning fossil fuel accumulate in the atmosphere if there is not enough bio capacity dedicated to absorb these emissions. Therefore, when the carbon footprint is reported within the context of the total Ecological Footprint, the tonnes of carbon dioxide emissions are expressed as the amount of productive land area required to sequester those carbon dioxide emissions. This tells us how much bio capacity is necessary to neutralize the emissions from burning fossil fuels.\n",
        "\n",
        "The amount of GHGs released into the atmosphere by any particular human activity is known as the carbon footprint. This footprint can be defined across an individual, a family, an organization or group, or an entire nation. It is usually measured as tons of carbon dioxide (CO2) emitted per year, a number that can be supplemented by tons of CO2-equivalent gases, including methane (CH4) and other greenhouse gases.\n",
        "\n",
        "Carbon dioxide, methane, and other greenhouse gases (GHGs) are an important input to the global radiation budget, which strongly impacts the past, present, and future climate. These gases are exchanged between the atmosphere, ocean (through dissolution of carbon gases), and plants (through photosynthesis and respiration). They are also emitted by human activities, such as burning of fossil fuels, clearing land for agricultural purposes, producing and consuming food, manufacturing goods, materials, buildings, and roads, and by the transportation sector."
      ]
    },
    {
      "cell_type": "markdown",
      "metadata": {
        "id": "F4skzWCf31kM"
      },
      "source": [
        "## **Why We Choose This Topic**\n",
        "\n",
        "We chose this topic because things with carbon footprints do damage to the earth by releasing large amounts of carbon. Carbon offsetting requires you to quantify your footprint, it helps set the stage for additional follow-on efforts. Following your carbon assessment will help one to understand and monitor impact on the environment"
      ]
    },
    {
      "cell_type": "markdown",
      "metadata": {
        "id": "it4dtZkS1vHf"
      },
      "source": [
        "## **Challenge**\n",
        "\n",
        "Your challenge is to identify local sources of carbon emissions and/or estimate amounts of carbon emissions for different human activities to aid scientists in mapping carbon sources and sinks. How can you inform decisions to adapt to the consequences of a changing world and aid policy makers in making plans for the future?"
      ]
    },
    {
      "cell_type": "markdown",
      "metadata": {
        "id": "21baIxLnzwMr"
      },
      "source": [
        "### Sources of GHG\n",
        "\n",
        "![alt](https://www.epa.gov/sites/production/files/2016-05/global_emissions_sector_2015.png)"
      ]
    },
    {
      "cell_type": "markdown",
      "metadata": {
        "id": "dFzTeGUq0oHd"
      },
      "source": [
        "Global greenhouse gas emissions can also be broken down by the economic activities that lead to their production.\n",
        "\n",
        "Electricity and Heat Production:-\n",
        "The burning of coal, natural gas, and oil for electricity and heat is the largest single source of global greenhouse gas emissions.\n",
        "\n",
        "Industry:-\n",
        "Greenhouse gas emissions from industry primarily involve fossil fuels burned on site at facilities for energy.\n",
        "\n",
        "Forestry:-\n",
        "Greenhouse gas emissions from this sector come mostly from agriculture (cultivation of crops and livestock) and deforestation.\n",
        "\n",
        "Transportation:-\n",
        "Greenhouse gas emissions from this sector primarily involve fossil fuels burned for road, rail, air, and marine transportation.\n",
        "\n",
        "Building:-\n",
        "Greenhouse gas emissions from this sector arise from onsite energy generation and burning fuels for heat in buildings or cooking in homes.\n",
        "\n",
        "Other Energy:-\n",
        "This source of greenhouse gas emissions refers to all emissions from the Energy sector which are not directly associated with electricity or heat production, such as fuel extraction, refining, processing, and transportation."
      ]
    },
    {
      "cell_type": "markdown",
      "metadata": {
        "id": "NGJPqE-N0Xkt"
      },
      "source": [
        "### Data Analysis\n",
        "\n",
        "![alt](https://www.epa.gov/sites/production/files/2016-05/global_emissions_gas_2015.png)"
      ]
    },
    {
      "cell_type": "markdown",
      "metadata": {
        "id": "8D7HHamw0XeV"
      },
      "source": [
        "\n",
        "\n",
        "*   Fossil fuel use is the primary source of CO2. CO2 can also be emitted from direct human-induced impacts on forestry and other land use, such as through deforestation, land clearing for agriculture, and degradation of soils.\n",
        "*   Agricultural activities, waste management, energy use, and biomass burning all contribute to CH4 emissions.\n",
        "\n",
        "\n",
        "*   Agricultural activities, such as fertilizer use, are the primary source of N2O emissions. Fossil fuel combustion also generates N2O.\n",
        "*   Industrial processes, refrigeration, and the use of a variety of consumer products contribute to emissions of F-gases, which include hydrofluorocarbons (HFCs), perfluorocarbons (PFCs), and sulfur hexafluoride (SF6).\n",
        "\n",
        "*   Black carbon is a solid particle or aerosol, not a gas, but it also contributes to warming of the atmosphere.\n"
      ]
    },
    {
      "cell_type": "markdown",
      "metadata": {
        "id": "Jh_WG8eB0p98"
      },
      "source": [
        "### Global Map of the CO2 column-averaged volume mixing ratios in 2.5 deg by 2.5 deg mesh(FTS SWIR L2 XCO2)\n",
        "\n",
        "![alt](https://data2.gosat.nies.go.jp/gallery/v0291/XCO2_L2_202008010831average_v02.91.png)"
      ]
    },
    {
      "cell_type": "markdown",
      "metadata": {
        "id": "iP1PX_Th49W7"
      },
      "source": [
        "## Data\n",
        "\n",
        "We have used labeled data https://github.com/NASA-IMPACT/space-apps/tree/master/data/labeled  from NASA data resources."
      ]
    },
    {
      "cell_type": "code",
      "metadata": {
        "id": "ulEiCj232qwF",
        "outputId": "0469b573-7bef-4206-b43d-0f8114d3200d",
        "colab": {
          "resources": {
            "http://localhost:8080/nbextensions/google.colab/files.js": {
              "data": "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",
              "ok": true,
              "headers": [
                [
                  "content-type",
                  "application/javascript"
                ]
              ],
              "status": 200,
              "status_text": ""
            }
          },
          "base_uri": "https://localhost:8080/",
          "height": 72
        }
      },
      "source": [
        "from google.colab import files\n",
        "data_load = files.upload()"
      ],
      "execution_count": 41,
      "outputs": [
        {
          "output_type": "display_data",
          "data": {
            "text/html": [
              "\n",
              "     <input type=\"file\" id=\"files-24d0f6ad-cd98-4d3a-b2c8-68323cd76d60\" name=\"files[]\" multiple disabled\n",
              "        style=\"border:none\" />\n",
              "     <output id=\"result-24d0f6ad-cd98-4d3a-b2c8-68323cd76d60\">\n",
              "      Upload widget is only available when the cell has been executed in the\n",
              "      current browser session. Please rerun this cell to enable.\n",
              "      </output>\n",
              "      <script src=\"/nbextensions/google.colab/files.js\"></script> "
            ],
            "text/plain": [
              "<IPython.core.display.HTML object>"
            ]
          },
          "metadata": {
            "tags": []
          }
        },
        {
          "output_type": "stream",
          "text": [
            "Saving PM2.5_dataset.csv to PM2.5_dataset (1).csv\n"
          ],
          "name": "stdout"
        }
      ]
    },
    {
      "cell_type": "markdown",
      "metadata": {
        "id": "0R5RLJ435b5U"
      },
      "source": [
        "Monitoring surface air quality helps ensure the protection of human health and property. However, surface air quality data is sparsely monitored. To help fill in these gaps, inferences are derived from other sources including remote sensing. The CSV formatted data and labels are provided below. It contains the following fields which have been described.\n",
        "\n",
        "air_data_value: EPA air data PM2.5 readings\n",
        "\n",
        "RH: relative humidity from HRRR\n",
        "\n",
        "UGRD, VGRD: Wind speed vectors from HRRR\n",
        "\n",
        "HPBL: Height of Planetary Boundary Layer from HRRR\n",
        "\n",
        "TMP: Temperature recorded from HRRR\n",
        "\n",
        "goes_measurement: AOD reading from GOES R"
      ]
    },
    {
      "cell_type": "code",
      "metadata": {
        "id": "bHSOIGqA37mG",
        "outputId": "6604b2c5-37eb-4a22-b1f9-63864155bc44",
        "colab": {
          "base_uri": "https://localhost:8080/",
          "height": 204
        }
      },
      "source": [
        "import pandas as pd\n",
        "import numpy as np\n",
        "import matplotlib.pyplot as plt\n",
        "import seaborn as sns\n",
        "\n",
        "df = pd.read_csv('PM2.5_dataset.csv')\n",
        "df.head()   # displays top 5 rows"
      ],
      "execution_count": 42,
      "outputs": [
        {
          "output_type": "execute_result",
          "data": {
            "text/html": [
              "<div>\n",
              "<style scoped>\n",
              "    .dataframe tbody tr th:only-of-type {\n",
              "        vertical-align: middle;\n",
              "    }\n",
              "\n",
              "    .dataframe tbody tr th {\n",
              "        vertical-align: top;\n",
              "    }\n",
              "\n",
              "    .dataframe thead th {\n",
              "        text-align: right;\n",
              "    }\n",
              "</style>\n",
              "<table border=\"1\" class=\"dataframe\">\n",
              "  <thead>\n",
              "    <tr style=\"text-align: right;\">\n",
              "      <th></th>\n",
              "      <th>Unnamed: 0</th>\n",
              "      <th>station_id</th>\n",
              "      <th>stime</th>\n",
              "      <th>air_data_value</th>\n",
              "      <th>RH</th>\n",
              "      <th>UGRD</th>\n",
              "      <th>VGRD</th>\n",
              "      <th>HPBL</th>\n",
              "      <th>TMP</th>\n",
              "      <th>goes_measurement</th>\n",
              "    </tr>\n",
              "  </thead>\n",
              "  <tbody>\n",
              "    <tr>\n",
              "      <th>0</th>\n",
              "      <td>0</td>\n",
              "      <td>06-011-0007</td>\n",
              "      <td>2019-01-02 20:00:00</td>\n",
              "      <td>17.0</td>\n",
              "      <td>31.600000</td>\n",
              "      <td>-2.106623</td>\n",
              "      <td>-1.797583</td>\n",
              "      <td>256.61905</td>\n",
              "      <td>282.8188</td>\n",
              "      <td>-0.005922</td>\n",
              "    </tr>\n",
              "    <tr>\n",
              "      <th>1</th>\n",
              "      <td>1</td>\n",
              "      <td>06-019-0500</td>\n",
              "      <td>2019-01-02 20:00:00</td>\n",
              "      <td>13.0</td>\n",
              "      <td>62.200000</td>\n",
              "      <td>1.205877</td>\n",
              "      <td>1.764917</td>\n",
              "      <td>337.49405</td>\n",
              "      <td>281.6313</td>\n",
              "      <td>0.087090</td>\n",
              "    </tr>\n",
              "    <tr>\n",
              "      <th>2</th>\n",
              "      <td>2</td>\n",
              "      <td>06-061-0003</td>\n",
              "      <td>2019-01-02 20:00:00</td>\n",
              "      <td>21.0</td>\n",
              "      <td>61.500000</td>\n",
              "      <td>1.518377</td>\n",
              "      <td>1.014917</td>\n",
              "      <td>270.61905</td>\n",
              "      <td>280.1313</td>\n",
              "      <td>0.094333</td>\n",
              "    </tr>\n",
              "    <tr>\n",
              "      <th>3</th>\n",
              "      <td>3</td>\n",
              "      <td>06-073-1201</td>\n",
              "      <td>2019-01-02 20:00:00</td>\n",
              "      <td>6.0</td>\n",
              "      <td>15.400001</td>\n",
              "      <td>2.080877</td>\n",
              "      <td>-1.610083</td>\n",
              "      <td>1009.30660</td>\n",
              "      <td>288.1938</td>\n",
              "      <td>-0.024185</td>\n",
              "    </tr>\n",
              "    <tr>\n",
              "      <th>4</th>\n",
              "      <td>4</td>\n",
              "      <td>06-079-2004</td>\n",
              "      <td>2019-01-02 20:00:00</td>\n",
              "      <td>7.0</td>\n",
              "      <td>50.700000</td>\n",
              "      <td>2.393377</td>\n",
              "      <td>-1.172583</td>\n",
              "      <td>460.43155</td>\n",
              "      <td>285.1938</td>\n",
              "      <td>-0.014013</td>\n",
              "    </tr>\n",
              "  </tbody>\n",
              "</table>\n",
              "</div>"
            ],
            "text/plain": [
              "   Unnamed: 0   station_id  ...       TMP  goes_measurement\n",
              "0           0  06-011-0007  ...  282.8188         -0.005922\n",
              "1           1  06-019-0500  ...  281.6313          0.087090\n",
              "2           2  06-061-0003  ...  280.1313          0.094333\n",
              "3           3  06-073-1201  ...  288.1938         -0.024185\n",
              "4           4  06-079-2004  ...  285.1938         -0.014013\n",
              "\n",
              "[5 rows x 10 columns]"
            ]
          },
          "metadata": {
            "tags": []
          },
          "execution_count": 42
        }
      ]
    },
    {
      "cell_type": "code",
      "metadata": {
        "id": "0KRPZ_8tPQKR",
        "outputId": "452f3874-192e-4535-bb34-0c3e2d9e426d",
        "colab": {
          "base_uri": "https://localhost:8080/",
          "height": 153
        }
      },
      "source": [
        "# Dropping Duplicates and Missing Values\n",
        "df=df.drop(df.columns[:3], axis=1)\n",
        "df = df.drop_duplicates()\n",
        "df = df.dropna()\n",
        "df.count()"
      ],
      "execution_count": 43,
      "outputs": [
        {
          "output_type": "execute_result",
          "data": {
            "text/plain": [
              "air_data_value      31570\n",
              "RH                  31570\n",
              "UGRD                31570\n",
              "VGRD                31570\n",
              "HPBL                31570\n",
              "TMP                 31570\n",
              "goes_measurement    31570\n",
              "dtype: int64"
            ]
          },
          "metadata": {
            "tags": []
          },
          "execution_count": 43
        }
      ]
    },
    {
      "cell_type": "code",
      "metadata": {
        "id": "pg7QJb2JxhE2"
      },
      "source": [
        "# Removing Outliers\n",
        "Q1 = df.quantile(0.25)\n",
        "Q3 = df.quantile(0.75)\n",
        "IQR = Q3 - Q1\n",
        "df = df[~((df < (Q1 - 1.5 * IQR)) |(df > (Q3 + 1.5 * IQR))).any(axis=1)]"
      ],
      "execution_count": 44,
      "outputs": []
    },
    {
      "cell_type": "code",
      "metadata": {
        "id": "uMRZlEG7yZF7",
        "outputId": "b37211cc-954b-45d8-f0c0-7e5b0bd5a169",
        "colab": {
          "base_uri": "https://localhost:8080/",
          "height": 502
        }
      },
      "source": [
        "df_corr=df.corr()\n",
        "f,ax=plt.subplots(figsize=(14,8))\n",
        "sns.heatmap(df_corr,cmap='winter',annot=True,)\n",
        "plt.title(\"Correlation between features\", \n",
        "          weight='bold', \n",
        "          fontsize=15)\n",
        "plt.show()"
      ],
      "execution_count": 45,
      "outputs": [
        {
          "output_type": "display_data",
          "data": {
            "image/png": "[encoded data removed]",
            "text/plain": [
              "<Figure size 1008x576 with 2 Axes>"
            ]
          },
          "metadata": {
            "tags": [],
            "needs_background": "light"
          }
        }
      ]
    },
    {
      "cell_type": "markdown",
      "metadata": {
        "id": "N8pIA9M-yZht"
      },
      "source": [
        "# Detection Model \n",
        "\n",
        "We are building a detection model with target variable as Temperature. Here we study variation of data with temperature."
      ]
    },
    {
      "cell_type": "code",
      "metadata": {
        "id": "R7ST1PWOR_x6"
      },
      "source": [
        "target = 'TMP'\n",
        "X = df[[ 'air_data_value', 'RH','UGRD','VGRD','goes_measurement', 'HPBL']].values\n",
        "y = df['TMP'].values"
      ],
      "execution_count": 46,
      "outputs": []
    },
    {
      "cell_type": "code",
      "metadata": {
        "id": "o_FKvzjgyZ7p"
      },
      "source": [
        "# Feature Scaling\n",
        "from sklearn.preprocessing import StandardScaler\n",
        "sc_X = StandardScaler()\n",
        "sc_y = StandardScaler()\n",
        "X = sc_X.fit_transform(X)\n",
        "y = sc_y.fit_transform(y.reshape(-1,1))"
      ],
      "execution_count": 47,
      "outputs": []
    },
    {
      "cell_type": "code",
      "metadata": {
        "id": "7zlRdCowyaVC",
        "outputId": "0088e4cf-cd2a-4e0c-bbf4-d43cafd90c91",
        "colab": {
          "base_uri": "https://localhost:8080/",
          "height": 51
        }
      },
      "source": [
        "#Train test spilt\n",
        "from sklearn.model_selection import train_test_split\n",
        "X_train, X_test, y_train, y_test = train_test_split(X, y, test_size=0.2,random_state=42)\n",
        "print(X_train.shape, y_train.shape)\n",
        "print(X_test.shape, y_test.shape)"
      ],
      "execution_count": 48,
      "outputs": [
        {
          "output_type": "stream",
          "text": [
            "(21206, 6) (21206, 1)\n",
            "(5302, 6) (5302, 1)\n"
          ],
          "name": "stdout"
        }
      ]
    },
    {
      "cell_type": "markdown",
      "metadata": {
        "id": "aUXCqWAkkygs"
      },
      "source": [
        "## Linear Regression"
      ]
    },
    {
      "cell_type": "code",
      "metadata": {
        "id": "VkswxUfayZ0d"
      },
      "source": [
        "from sklearn.linear_model import LinearRegression\n",
        "from sklearn import metrics\n",
        "linear = LinearRegression()\n",
        "linear.fit(X_train, y_train)\n",
        "y_test_predict = linear.predict(X_test)\n",
        "y_train_predict= linear.predict(X_train)"
      ],
      "execution_count": 49,
      "outputs": []
    },
    {
      "cell_type": "code",
      "metadata": {
        "id": "yH_vMr2vyYTh",
        "outputId": "3865bc61-84cb-4b69-e31e-e0110c9c2760",
        "colab": {
          "base_uri": "https://localhost:8080/",
          "height": 370
        }
      },
      "source": [
        "sns.distplot(y_test,label='Actual Data',color='yellow',bins=50,hist=False)\n",
        "sns.distplot(y_test_predict,label='Predicted',color='red',bins=50,hist=False)"
      ],
      "execution_count": 60,
      "outputs": [
        {
          "output_type": "stream",
          "text": [
            "/usr/local/lib/python3.6/dist-packages/seaborn/distributions.py:2551: FutureWarning: `distplot` is a deprecated function and will be removed in a future version. Please adapt your code to use either `displot` (a figure-level function with similar flexibility) or `kdeplot` (an axes-level function for kernel density plots).\n",
            "  warnings.warn(msg, FutureWarning)\n",
            "/usr/local/lib/python3.6/dist-packages/seaborn/distributions.py:2551: FutureWarning: `distplot` is a deprecated function and will be removed in a future version. Please adapt your code to use either `displot` (a figure-level function with similar flexibility) or `kdeplot` (an axes-level function for kernel density plots).\n",
            "  warnings.warn(msg, FutureWarning)\n"
          ],
          "name": "stderr"
        },
        {
          "output_type": "execute_result",
          "data": {
            "text/plain": [
              "<matplotlib.axes._subplots.AxesSubplot at 0x7f8559f2e4e0>"
            ]
          },
          "metadata": {
            "tags": []
          },
          "execution_count": 60
        },
        {
          "output_type": "display_data",
          "data": {
            "image/png": "[encoded data removed]",
            "text/plain": [
              "<Figure size 432x288 with 1 Axes>"
            ]
          },
          "metadata": {
            "tags": [],
            "needs_background": "light"
          }
        }
      ]
    },
    {
      "cell_type": "code",
      "metadata": {
        "id": "rHLTygtbSmXw",
        "outputId": "de6576f1-50dd-41e6-e648-55f3ef9e500e",
        "colab": {
          "base_uri": "https://localhost:8080/",
          "height": 187
        }
      },
      "source": [
        "from sklearn.metrics import mean_squared_error, r2_score,mean_absolute_error\n",
        "\n",
        "print('mean_squared_error_y_train: ',mean_squared_error(y_train,y_train_predict))\n",
        "print('mean_squared_error_y_test: ',mean_squared_error(y_test,y_test_predict))\n",
        "print('\\n')\n",
        "print('r2_score_y_train: ',r2_score(y_train,y_train_predict))\n",
        "print('r2_score_y_test: ',r2_score(y_test,y_test_predict))\n",
        "print('\\n')\n",
        "print('mean_absolute_error_y_train: ',mean_absolute_error(y_train,y_train_predict))\n",
        "print('mean_absolute_error_y_test: ',mean_absolute_error(y_test,y_test_predict))"
      ],
      "execution_count": 51,
      "outputs": [
        {
          "output_type": "stream",
          "text": [
            "mean_squared_error_y_train:  0.6379592179417857\n",
            "mean_squared_error_y_test:  0.6203727818070891\n",
            "\n",
            "\n",
            "r2_score_y_train:  0.3650571532121045\n",
            "r2_score_y_test:  0.3675960929377047\n",
            "\n",
            "\n",
            "mean_absolute_error_y_train:  0.6344238320789226\n",
            "mean_absolute_error_y_test:  0.6290159464252563\n"
          ],
          "name": "stdout"
        }
      ]
    },
    {
      "cell_type": "markdown",
      "metadata": {
        "id": "lTe6p21xk31d"
      },
      "source": [
        "## Random Forest Regression"
      ]
    },
    {
      "cell_type": "code",
      "metadata": {
        "id": "3BJICAxhJFOk"
      },
      "source": [
        "# Fitting Random Forest Regression to the dataset \n",
        "\n",
        "from sklearn.ensemble import RandomForestRegressor \n",
        "regressor = RandomForestRegressor(n_estimators= 100,random_state=42)\n",
        "regressor.fit(X_train, y_train.ravel()) \n",
        "y_test_predict = regressor.predict(X_test)\n",
        "y_train_predict= linear.predict(X_train)"
      ],
      "execution_count": 52,
      "outputs": []
    },
    {
      "cell_type": "code",
      "metadata": {
        "id": "-ACKj2BMRrFS",
        "outputId": "6d9e88bd-5eb0-49de-f1b8-1a08c22edadd",
        "colab": {
          "base_uri": "https://localhost:8080/",
          "height": 370
        }
      },
      "source": [
        "sns.distplot(y_test,label='Actual Data',color='green',bins=50,hist=False)\n",
        "sns.distplot(y_test_predict,label='Predicted',color='maroon',bins=50,hist=False)"
      ],
      "execution_count": 61,
      "outputs": [
        {
          "output_type": "stream",
          "text": [
            "/usr/local/lib/python3.6/dist-packages/seaborn/distributions.py:2551: FutureWarning: `distplot` is a deprecated function and will be removed in a future version. Please adapt your code to use either `displot` (a figure-level function with similar flexibility) or `kdeplot` (an axes-level function for kernel density plots).\n",
            "  warnings.warn(msg, FutureWarning)\n",
            "/usr/local/lib/python3.6/dist-packages/seaborn/distributions.py:2551: FutureWarning: `distplot` is a deprecated function and will be removed in a future version. Please adapt your code to use either `displot` (a figure-level function with similar flexibility) or `kdeplot` (an axes-level function for kernel density plots).\n",
            "  warnings.warn(msg, FutureWarning)\n"
          ],
          "name": "stderr"
        },
        {
          "output_type": "execute_result",
          "data": {
            "text/plain": [
              "<matplotlib.axes._subplots.AxesSubplot at 0x7f8559be5a20>"
            ]
          },
          "metadata": {
            "tags": []
          },
          "execution_count": 61
        },
        {
          "output_type": "display_data",
          "data": {
            "image/png": "[encoded data removed]",
            "text/plain": [
              "<Figure size 432x288 with 1 Axes>"
            ]
          },
          "metadata": {
            "tags": [],
            "needs_background": "light"
          }
        }
      ]
    },
    {
      "cell_type": "code",
      "metadata": {
        "id": "yj3UbjepTAUm",
        "outputId": "f34d2b8c-c3dc-44ff-c109-cbd9bc9f560b",
        "colab": {
          "base_uri": "https://localhost:8080/",
          "height": 187
        }
      },
      "source": [
        "from sklearn.metrics import mean_squared_error, r2_score,mean_absolute_error\n",
        "\n",
        "print('mean_squared_error_y_train: ',mean_squared_error(y_train,y_train_predict))\n",
        "print('mean_squared_error_y_test: ',mean_squared_error(y_test,y_test_predict))\n",
        "print('\\n')\n",
        "print('r2_score_y_train: ',r2_score(y_train,y_train_predict))\n",
        "print('r2_score_y_test: ',r2_score(y_test,y_test_predict))\n",
        "print('\\n')\n",
        "print('mean_absolute_error_y_train: ',mean_absolute_error(y_train,y_train_predict))\n",
        "print('mean_absolute_error_y_test: ',mean_absolute_error(y_test,y_test_predict))"
      ],
      "execution_count": 54,
      "outputs": [
        {
          "output_type": "stream",
          "text": [
            "mean_squared_error_y_train:  0.6379592179417857\n",
            "mean_squared_error_y_test:  0.40914418702674327\n",
            "\n",
            "\n",
            "r2_score_y_train:  0.3650571532121045\n",
            "r2_score_y_test:  0.5829211241765955\n",
            "\n",
            "\n",
            "mean_absolute_error_y_train:  0.6344238320789226\n",
            "mean_absolute_error_y_test:  0.48534419528690204\n"
          ],
          "name": "stdout"
        }
      ]
    },
    {
      "cell_type": "markdown",
      "metadata": {
        "id": "67FpobURk_Kt"
      },
      "source": [
        "## Decision Tree Regressor"
      ]
    },
    {
      "cell_type": "code",
      "metadata": {
        "id": "UDneo-oABH67"
      },
      "source": [
        "# Decision Tree Regressor\n",
        "from sklearn.tree import DecisionTreeRegressor\n",
        "from sklearn.model_selection import train_test_split\n",
        "X_train, X_test, y_train, y_test = train_test_split(X, y, test_size=0.2, random_state=42)"
      ],
      "execution_count": 55,
      "outputs": []
    },
    {
      "cell_type": "code",
      "metadata": {
        "id": "LOjWCVGaBIXc",
        "outputId": "abd61f5d-9f7c-4462-ccc7-d09b5b0a31ae",
        "colab": {
          "base_uri": "https://localhost:8080/",
          "height": 119
        }
      },
      "source": [
        "regr_1 = DecisionTreeRegressor(max_depth=15)\n",
        "regr_2 = DecisionTreeRegressor(max_depth=20)\n",
        "regr_1.fit(X_train, y_train)\n",
        "regr_2.fit(X_train, y_train)\n"
      ],
      "execution_count": 56,
      "outputs": [
        {
          "output_type": "execute_result",
          "data": {
            "text/plain": [
              "DecisionTreeRegressor(ccp_alpha=0.0, criterion='mse', max_depth=20,\n",
              "                      max_features=None, max_leaf_nodes=None,\n",
              "                      min_impurity_decrease=0.0, min_impurity_split=None,\n",
              "                      min_samples_leaf=1, min_samples_split=2,\n",
              "                      min_weight_fraction_leaf=0.0, presort='deprecated',\n",
              "                      random_state=None, splitter='best')"
            ]
          },
          "metadata": {
            "tags": []
          },
          "execution_count": 56
        }
      ]
    },
    {
      "cell_type": "code",
      "metadata": {
        "id": "UBm4L2G_Nu1i"
      },
      "source": [
        "y_pred1 = regr_1.predict(X_test)\n",
        "y_pred2 = regr_2.predict(X_test)"
      ],
      "execution_count": 57,
      "outputs": []
    },
    {
      "cell_type": "code",
      "metadata": {
        "id": "xgOeqsHuOd7n",
        "outputId": "51b575fc-0269-4d8f-c218-cb6dfe1d45b4",
        "colab": {
          "base_uri": "https://localhost:8080/",
          "height": 549
        }
      },
      "source": [
        "plt.figure(figsize=(16,6))\n",
        "#first row, first col\n",
        "ax1 = plt.subplot2grid((1,2),(0,0))\n",
        "sns.distplot(y_test,label='Actual Data',color='red',hist=False)\n",
        "sns.distplot(y_pred1,label='Predicted',color='blue',hist=False)\n",
        "\n",
        "ax1 = plt.subplot2grid((1,2),(0,1))\n",
        "sns.distplot(y_test,label='Actual Data',color='red',hist=False)\n",
        "sns.distplot(y_pred2,label='Predicted',color='blue',hist=False)"
      ],
      "execution_count": 58,
      "outputs": [
        {
          "output_type": "stream",
          "text": [
            "/usr/local/lib/python3.6/dist-packages/seaborn/distributions.py:2551: FutureWarning: `distplot` is a deprecated function and will be removed in a future version. Please adapt your code to use either `displot` (a figure-level function with similar flexibility) or `kdeplot` (an axes-level function for kernel density plots).\n",
            "  warnings.warn(msg, FutureWarning)\n",
            "/usr/local/lib/python3.6/dist-packages/seaborn/distributions.py:2551: FutureWarning: `distplot` is a deprecated function and will be removed in a future version. Please adapt your code to use either `displot` (a figure-level function with similar flexibility) or `kdeplot` (an axes-level function for kernel density plots).\n",
            "  warnings.warn(msg, FutureWarning)\n",
            "/usr/local/lib/python3.6/dist-packages/seaborn/distributions.py:2551: FutureWarning: `distplot` is a deprecated function and will be removed in a future version. Please adapt your code to use either `displot` (a figure-level function with similar flexibility) or `kdeplot` (an axes-level function for kernel density plots).\n",
            "  warnings.warn(msg, FutureWarning)\n",
            "/usr/local/lib/python3.6/dist-packages/seaborn/distributions.py:2551: FutureWarning: `distplot` is a deprecated function and will be removed in a future version. Please adapt your code to use either `displot` (a figure-level function with similar flexibility) or `kdeplot` (an axes-level function for kernel density plots).\n",
            "  warnings.warn(msg, FutureWarning)\n"
          ],
          "name": "stderr"
        },
        {
          "output_type": "execute_result",
          "data": {
            "text/plain": [
              "<matplotlib.axes._subplots.AxesSubplot at 0x7f8559897128>"
            ]
          },
          "metadata": {
            "tags": []
          },
          "execution_count": 58
        },
        {
          "output_type": "display_data",
          "data": {
            "image/png": "[encoded data removed]",
            "text/plain": [
              "<Figure size 1152x432 with 2 Axes>"
            ]
          },
          "metadata": {
            "tags": [],
            "needs_background": "light"
          }
        }
      ]
    },
    {
      "cell_type": "code",
      "metadata": {
        "id": "arYgXVoiSjz_",
        "outputId": "dff0f3a8-ad82-4c46-e117-027c4ef5517f",
        "colab": {
          "base_uri": "https://localhost:8080/",
          "height": 153
        }
      },
      "source": [
        "print('mean_squared_error max depth  15: ',mean_squared_error(y_test,y_pred1))\n",
        "print('r2_score max depth 15: ',r2_score(y_test,y_pred1))\n",
        "print('RMSE max depth 15: ',np.sqrt(metrics.mean_squared_error(y_test,y_pred1)))\n",
        "print('\\n')\n",
        "print('mean_squared_error for max depth 20: ',mean_squared_error(y_test,y_pred2))\n",
        "print('r2_score max depth 20: ',r2_score(y_test,y_pred2))\n",
        "print('RMSE max depth 20: ',np.sqrt(metrics.mean_squared_error(y_test,y_pred2)))\n",
        "\n"
      ],
      "execution_count": 59,
      "outputs": [
        {
          "output_type": "stream",
          "text": [
            "mean_squared_error max depth  15:  0.7053024057302589\n",
            "r2_score max depth 15:  0.2810193965231841\n",
            "RMSE max depth 15:  0.8398228418721766\n",
            "\n",
            "\n",
            "mean_squared_error for max depth 20:  0.8166264305227414\n",
            "r2_score max depth 20:  0.16753642258678436\n",
            "RMSE max depth 20:  0.9036738518529467\n"
          ],
          "name": "stdout"
        }
      ]
    },
    {
      "cell_type": "markdown",
      "metadata": {
        "id": "owfdFkHC2Sco"
      },
      "source": [
        "# **Solution**"
      ]
    },
    {
      "cell_type": "markdown",
      "metadata": {
        "id": "uZyzKh1V2SMz"
      },
      "source": [
        "Our Solution to this challenge is to decarbonize emissions from atmosphere to monitor the climate change of nature.\n",
        "\n",
        "Our idea is to make a pigmented fluid of artificial chloroplast with paints. There after tint this mixture on outer surfaces of house walls, cars, etc.\n",
        "\n",
        "In this way Chloroplast will capture the Carbondioxide from atmosphere and in the presence of sunlight it  releases Oxygen into atmosphere. "
      ]
    },
    {
      "cell_type": "markdown",
      "metadata": {
        "id": "UDJ6eusI9-Bw"
      },
      "source": [
        "![alt](https://upload.wikimedia.org/wikipedia/commons/thumb/7/7d/Hill_reaction_1.png/440px-Hill_reaction_1.png)"
      ]
    },
    {
      "cell_type": "markdown",
      "metadata": {
        "id": "BcOkn6jT-y5f"
      },
      "source": [
        "## **Thank You!**"
      ]
    }
  ]
}